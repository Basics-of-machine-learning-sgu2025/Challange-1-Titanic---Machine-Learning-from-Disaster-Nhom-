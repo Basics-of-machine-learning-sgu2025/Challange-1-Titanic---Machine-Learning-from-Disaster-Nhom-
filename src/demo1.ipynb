{
 "cells": [
  {
   "cell_type": "markdown",
   "id": "d49f3684",
   "metadata": {},
   "source": [
    "# 🚢 Titanic Survival Prediction: Giới thiệu Bài toán & Phân tích Dữ liệu Khám phá (EDA) Chuyên sâu\n",
    "\n",
    "**Mục tiêu:** Thực hiện EDA chuyên sâu để hiểu sâu sắc các mối tương quan giữa đặc trưng và biến mục tiêu, từ đó xây dựng chiến lược tiền xử lý dữ liệu hiệu quả nhất.\n",
    "\n",
    "---"
   ]
  },
  {
   "cell_type": "markdown",
   "id": "6b07687d",
   "metadata": {},
   "source": [
    "## 1. Giới thiệu Bài toán và Đặc trưng Dữ liệu\n",
    "\n",
    "### 1.1. Bối cảnh & Mục tiêu\n",
    "\n",
    "Cuộc thi **\"Titanic - Machine Learning from Disaster\"** là bài toán phân loại nhị phân kinh điển, thách thức người tham gia xây dựng mô hình dự đoán khả năng sống sót ($\\text{Survived}=1$) dựa trên dữ liệu hành khách. Thảm họa này nhấn mạnh một nguyên tắc sinh tồn cơ bản: **cơ hội sống sót không đồng đều**, mà bị chi phối bởi các yếu tố xã hội và nhân khẩu học.\n",
    "\n",
    "### 1.2. Đặc trưng Đầu vào (Features)\n",
    "\n",
    "| Biến (Variable) | Loại dữ liệu | Định nghĩa | Ghi chú & Ý nghĩa |\n",
    "| :--- | :--- | :--- | :--- |\n",
    "| **PassengerId** | Định danh | ID duy nhất. | Không có ý nghĩa dự đoán. |\n",
    "| **Survived** | Mục tiêu | Trạng thái sống sót. | $1 = \\text{Sống sót}, 0 = \\text{Tử vong}$. |\n",
    "| **Pclass** | Định tính (Thứ tự) | Hạng vé. | Proxy cho **Địa vị Kinh tế-Xã hội (SES)**: $1=\\text{Upper}, 3=\\text{Lower}$. |\n",
    "| **Sex** | Định tính | Giới tính. | **Đặc trưng dự đoán mạnh mẽ nhất**. |\n",
    "| **Age** | Định lượng | Tuổi của hành khách. | **Có giá trị thiếu**. Tuổi có thể là số thập phân. |\n",
    "| **SibSp** | Định lượng | Số lượng Anh chị em/Vợ chồng đi cùng. | |\n",
    "| **Parch** | Định lượng | Số lượng Cha mẹ/Con cái đi cùng. | |\n",
    "| **Fare** | Định lượng | Giá vé hành khách trả. | Tương quan mạnh với Pclass. |\n",
    "| **Cabin** | Định tính | Số hiệu Cabin. | **Thiếu rất nhiều** ($\\approx 77\\%$). Chữ cái đầu là vị trí boong tàu. |\n",
    "| **Embarked** | Định tính | Cổng lên tàu. | $C = \\text{Cherbourg}, Q = \\text{Queenstown}, S = \\text{Southampton}$. |"
   ]
  },
  {
   "cell_type": "markdown",
   "id": "5aac0a4d",
   "metadata": {},
   "source": [
    "---\n",
    "\n",
    "# 2. Thiết lập Môi trường và Tổng quan Dữ liệu"
   ]
  },
  {
   "cell_type": "code",
   "execution_count": null,
   "id": "6e5058d3",
   "metadata": {},
   "outputs": [],
   "source": [
    "# Import các thư viện cần thiết\n",
    "import pandas as pd\n",
    "import numpy as np\n",
    "import matplotlib.pyplot as plt\n",
    "import seaborn as sns\n",
    "\n",
    "# Thiết lập hiển thị cho Notebook\n",
    "pd.set_option('display.max_columns', 15)\n",
    "sns.set_style('whitegrid')\n",
    "%matplotlib inline \n",
    "\n",
    "# Tải dữ liệu\n",
    "try:\n",
    "    train_df = pd.read_csv('train.csv')\n",
    "    print(\"Tải dữ liệu thành công.\")\n",
    "except FileNotFoundError:\n",
    "    print(\"LỖI: Không tìm thấy file dữ liệu. Hãy đảm bảo 'train.csv' nằm trong cùng thư mục với notebook.\")"
   ]
  },
  {
   "cell_type": "code",
   "execution_count": null,
   "id": "67779c87",
   "metadata": {},
   "outputs": [],
   "source": [
    "# Kiểm tra 5 dòng đầu tiên của tập huấn luyện\n",
    "print('--- 5 Dòng đầu tiên của tập huấn luyện ---')\n",
    "print(train_df.head())\n",
    "\n",
    "# Thông tin kiểu dữ liệu và giá trị thiếu\n",
    "print(\"\\n--- Thông tin kiểu dữ liệu và giá trị thiếu trong tập huấn luyện ---\")\n",
    "train_df.info()"
   ]
  },
  {
   "cell_type": "code",
   "execution_count": null,
   "id": "612a1233",
   "metadata": {},
   "outputs": [],
   "source": [
    "# Kiểm tra tổng số giá trị thiếu (NaN) trên tập huấn luyện\n",
    "print(\"\\n--- Tổng số giá trị thiếu (NaN) trên tập huấn luyện ---\")\n",
    "print(train_df.isnull().sum())"
   ]
  },
  {
   "cell_type": "markdown",
   "id": "cd656a05",
   "metadata": {},
   "source": [
    "**Nhận xét Tổng quan và Vấn đề Dữ liệu:**\n",
    "\n",
    "Tập huấn luyện (`train.csv`) bao gồm 891 mẫu. Phân tích `info()` và `isnull().sum()` chỉ ra ba cột chính có vấn đề về dữ liệu thiếu:\n",
    "\n",
    "1.  **`Cabin` (687/891 thiếu):** Với hơn **77%** giá trị bị thiếu, việc điền khuyết số hiệu Cabin cụ thể là không thực tế. Chiến lược phù hợp là chuyển đổi nó thành một biến nhị phân (`Cabin_Known`) để chỉ ra hành khách có thông tin Cabin hay không, vì thông tin Cabin thường liên quan đến vị trí trên tàu và tầng lớp xã hội.\n",
    "2.  **`Age` (177/891 thiếu):** Đây là một cột quan trọng và không thể bị loại bỏ. Việc điền khuyết cần phải thông minh hơn, ví dụ sử dụng **trung vị** theo nhóm `Pclass` hoặc `Title` (Danh xưng), thay vì trung bình toàn bộ, để bảo toàn mối quan hệ phân bố tuổi-xã hội.\n",
    "3.  **`Embarked` (2/891 thiếu):** Chỉ thiếu 2 giá trị, có thể dễ dàng điền bằng giá trị **mode** (cổng lên tàu xuất hiện nhiều nhất) mà không gây ảnh hưởng đáng kể đến mô hình."
   ]
  },
  {
   "cell_type": "markdown",
   "id": "86f8a0c4",
   "metadata": {},
   "source": [
    "---\n",
    "\n",
    "# 3. Phân tích Dữ liệu Khám phá (EDA)"
   ]
  },
  {
   "cell_type": "markdown",
   "id": "0d1634da",
   "metadata": {},
   "source": [
    "## 3.1. Phân tích Biến Mục tiêu (`Survived`)"
   ]
  },
  {
   "cell_type": "code",
   "execution_count": null,
   "id": "4f33361d",
   "metadata": {},
   "outputs": [],
   "source": [
    "# Tỷ lệ sống sót chung\n",
    "survival_rate = train_df['Survived'].mean()\n",
    "print(f\"Tỷ lệ sống sót chung: {survival_rate:.2%}\")\n",
    "\n",
    "# Biểu đồ phân bố\n",
    "plt.figure(figsize=(6, 4))\n",
    "sns.countplot(x='Survived', data=train_df, palette='viridis')\n",
    "plt.title('Phân bố Hành khách Sống sót và Tử vong')\n",
    "plt.xticks([0, 1], ['Tử vong (0)', 'Sống sót (1)'])\n",
    "plt.show()"
   ]
  },
  {
   "cell_type": "markdown",
   "id": "d909c4e4",
   "metadata": {},
   "source": [
    "**Nhận xét về Phân bố Sống sót:**\n",
    "\n",
    "Tỷ lệ sống sót chung trong tập dữ liệu là **38.38%**, cho thấy số lượng hành khách tử vong ($61.62\\%$) nhiều hơn đáng kể. Mối quan hệ không cân bằng này là điều cần lưu ý. Mục tiêu của mô hình không chỉ là dự đoán chính xác mà còn là tránh thiên vị (bias) quá mức về lớp đa số (tử vong), mặc dù trong bài toán này, độ chính xác (Accuracy) vẫn là thước đo chính của Kaggle."
   ]
  },
  {
   "cell_type": "markdown",
   "id": "3c941dd0",
   "metadata": {},
   "source": [
    "## 3.2. Mối quan hệ giữa Sống sót, Giới tính và Hạng vé"
   ]
  },
  {
   "cell_type": "code",
   "execution_count": null,
   "id": "6798e0e3",
   "metadata": {},
   "outputs": [],
   "source": [
    "plt.figure(figsize=(15, 6))\n",
    "\n",
    "# Tỷ lệ sống sót theo Giới tính\n",
    "plt.subplot(1, 2, 1)\n",
    "sns.barplot(x='Sex', y='Survived', data=train_df, palette='coolwarm')\n",
    "plt.title('Tỷ lệ Sống sót theo Giới tính')\n",
    "plt.ylabel('Tỷ lệ Sống sót')\n",
    "\n",
    "# Tỷ lệ sống sót theo Hạng vé\n",
    "plt.subplot(1, 2, 2)\n",
    "sns.barplot(x='Pclass', y='Survived', data=train_df, palette='Spectral')\n",
    "plt.title('Tỷ lệ Sống sót theo Hạng vé')\n",
    "plt.ylabel('Tỷ lệ Sống sót')\n",
    "plt.tight_layout()\n",
    "plt.show()\n",
    "\n",
    "# Biểu đồ tương tác\n",
    "g = sns.FacetGrid(train_df, col='Pclass', height=4, aspect=1.2)\n",
    "g.map(sns.barplot, 'Sex', 'Survived', palette='viridis', order=['male', 'female'])\n",
    "g.set_axis_labels('Giới tính', 'Tỷ lệ Sống sót')\n",
    "g.set_titles('Hạng vé {col_name}')\n",
    "g.add_legend()\n",
    "plt.suptitle('Tỷ lệ Sống sót theo Hạng vé và Giới tính', y=1.02, fontsize=16)\n",
    "plt.show()"
   ]
  },
  {
   "cell_type": "markdown",
   "id": "620fc789",
   "metadata": {},
   "source": [
    "**Nhận xét và Giải thích về `Sex` và `Pclass`:**\n",
    "\n",
    "**Giới tính (`Sex`)** là đặc trưng dự đoán mạnh mẽ nhất: Tỷ lệ sống sót của phụ nữ cao hơn 74% trong khi nam giới chỉ đạt khoảng 19%. Điều này phản ánh rõ ràng chính sách **\"Phụ nữ và trẻ em trước\"** được ưu tiên trong quá trình sơ tán.\n",
    "\n",
    "**Hạng vé (`Pclass`)** cũng đóng vai trò quyết định, đại diện cho **Địa vị Kinh tế-Xã hội (SES)**. Hành khách **Hạng nhất** có tỷ lệ sống sót vượt trội, có thể do cabin của họ nằm ở boong trên, gần xuồng cứu sinh hơn và được ưu tiên tiếp cận. Ngược lại, hành khách **Hạng ba** (Pclass=3) chiếm số lượng lớn nhất nhưng có tỷ lệ sống sót thấp nhất.\n",
    "\n",
    "**Tương tác:** Phân tích tương tác cho thấy **cả hai yếu tố đều quan trọng**. Ngay cả khi có đặc quyền về giới tính, nếu một người phụ nữ ở Hạng ba, tỷ lệ sống sót của họ vẫn thấp hơn đáng kể so với một người phụ nữ ở Hạng nhất. Điều này cho thấy **vị trí và tầng lớp xã hội** có ảnh hưởng đến mức độ ưu tiên sơ tán, ngay cả trong cùng một nhóm giới tính."
   ]
  },
  {
   "cell_type": "markdown",
   "id": "39e652c5",
   "metadata": {},
   "source": [
    "## 3.3. Phân tích Tuổi tác (`Age`)"
   ]
  },
  {
   "cell_type": "code",
   "execution_count": null,
   "id": "7fa8909b",
   "metadata": {},
   "outputs": [],
   "source": [
    "plt.figure(figsize=(12, 6))\n",
    "# Biểu đồ mật độ (KDE) để so sánh phân bố Tuổi giữa hai nhóm\n",
    "sns.kdeplot(train_df[train_df['Survived'] == 1]['Age'].dropna(), label='Sống sót (1)', color='skyblue', fill=True, alpha=0.6, linewidth=2)\n",
    "sns.kdeplot(train_df[train_df['Survived'] == 0]['Age'].dropna(), label='Tử vong (0)', color='salmon', fill=True, alpha=0.6, linewidth=2)\n",
    "plt.title('Phân bố Tuổi theo Trạng thái Sống sót')\n",
    "plt.xlabel('Tuổi')\n",
    "plt.legend()\n",
    "plt.show()"
   ]
  },
  {
   "cell_type": "markdown",
   "id": "01bb6295",
   "metadata": {},
   "source": [
    "**Nhận xét và Giải thích về `Age`:**\n",
    "\n",
    "Biểu đồ phân bố tuổi chỉ ra một sự khác biệt rõ rệt: **Trẻ em (dưới 10 tuổi)** có đỉnh sống sót cao hơn hẳn, điều này hoàn toàn phù hợp với chính sách \"trẻ em trước\" đã được áp dụng. Ngược lại, đỉnh tử vong cao nhất tập trung ở nhóm tuổi **20-35**, đây là nhóm chiếm số lượng lớn nhất và chủ yếu là nam giới Hạng ba. Mối tương quan này khẳng định rằng `Age` cần được giữ lại và thậm chí được biến đổi thành các biến phân loại (ví dụ: `Child`, `Young Adult`, `Senior`) để mô hình hóa tốt hơn các ngưỡng tuổi có tỷ lệ sống sót khác nhau."
   ]
  },
  {
   "cell_type": "markdown",
   "id": "3be56e00",
   "metadata": {},
   "source": [
    "## 3.4. Phân tích Kích thước Gia đình (`SibSp` & `Parch`)"
   ]
  },
  {
   "cell_type": "code",
   "execution_count": null,
   "id": "29d2b189",
   "metadata": {},
   "outputs": [],
   "source": [
    "# Tạo đặc trưng mới: Kích thước Gia đình (FamilySize = SibSp + Parch + bản thân)\n",
    "train_df['FamilySize'] = train_df['SibSp'] + train_df['Parch'] + 1\n",
    "\n",
    "# Trực quan hóa tỷ lệ sống sót theo FamilySize\n",
    "plt.figure(figsize=(10, 6))\n",
    "sns.barplot(x='FamilySize', y='Survived', data=train_df, palette='Set2')\n",
    "plt.title('Tỷ lệ Sống sót theo Kích thước Gia đình')\n",
    "plt.ylabel('Tỷ lệ Sống sót')\n",
    "plt.show()"
   ]
  },
  {
   "cell_type": "markdown",
   "id": "f2c15bcf",
   "metadata": {},
   "source": [
    "**Nhận xét và Giải thích về `FamilySize`:**\n",
    "\n",
    "Việc kết hợp `SibSp` và `Parch` thành `FamilySize` mang lại cái nhìn sâu sắc hơn so với việc phân tích từng biến riêng lẻ.\n",
    "\n",
    "1.  **Người đi một mình (FamilySize=1):** Có tỷ lệ sống sót thấp hơn mức trung bình. Có lẽ những người này ít được ưu tiên cứu giúp hoặc thiếu sự hỗ trợ trong hỗn loạn.\n",
    "2.  **Gia đình nhỏ (FamilySize=2, 3, 4):** Nhóm này có tỷ lệ sống sót cao nhất. Điều này có ý nghĩa, vì việc sơ tán một gia đình nhỏ (ví dụ: vợ chồng, hoặc vợ chồng và một con) dễ dàng hơn, và các thành viên có động lực bảo vệ nhau.\n",
    "3.  **Gia đình lớn (FamilySize $\\geq 5$):** Tỷ lệ sống sót giảm mạnh. Sơ tán một gia đình quá đông đúc (ví dụ: 6, 7, 8 người) trở nên cực kỳ khó khăn trong điều kiện thiếu xuồng cứu sinh và thời gian hạn chế, dẫn đến việc phải ưu tiên cho các nhóm nhỏ hơn.\n",
    "\n",
    "Điều này gợi ý rằng, thay vì dùng `SibSp` và `Parch`, việc tạo ra biến **`IsAlone`** (nhị phân, $1$ nếu $FamilySize=1$) hoặc phân loại `FamilySize` thành các nhóm (Nhỏ, Vừa, Lớn) sẽ mang lại sức mạnh dự đoán cao hơn cho mô hình."
   ]
  },
  {
   "cell_type": "markdown",
   "id": "818498a3",
   "metadata": {},
   "source": [
    "---\n",
    "\n",
    "# 4. Tóm tắt EDA & Chiến lược Tiền xử lý"
   ]
  },
  {
   "cell_type": "markdown",
   "id": "c2d16654",
   "metadata": {},
   "source": [
    "**Tóm tắt Chiến lược Tiền xử lý Dữ liệu:**\n",
    "\n",
    "EDA đã xác định **`Sex`** và **`Pclass`** là các đặc trưng quan trọng nhất. Các đặc trưng khác như `Age`, `SibSp`, và `Parch` cần được xử lý và kỹ thuật hóa để tối đa hóa sức mạnh dự đoán.\n",
    "\n",
    "| Đặc trưng | Vấn đề / Phát hiện | Kế hoạch Hành động |\n",
    "| :--- | :--- | :--- |\n",
    "| **Sex** | Yếu tố mạnh nhất. | Mã hóa nhị phân (`male` $\\rightarrow 0$, `female` $\\rightarrow 1`). |\n",
    "| **Pclass** | Yếu tố mạnh. | **Mã hóa danh nghĩa** (One-Hot Encoding) vì mặc dù có thứ tự, mối quan hệ không tuyến tính. |\n",
    "| **Age** | Thiếu 177 giá trị. | **Điền khuyết** bằng trung vị theo `Title` (Danh xưng) để giữ tính liên tục. Sau đó, có thể phân loại thành các nhóm tuổi. |\n",
    "| **SibSp, Parch** | Dữ liệu thô. | **Kỹ thuật Đặc trưng:** Tạo biến **`FamilySize`** và biến nhị phân **`IsAlone`**. |\n",
    "| **Embarked** | Thiếu 2 giá trị. | **Điền khuyết** bằng mode. **Mã hóa danh nghĩa** (One-Hot Encoding). |\n",
    "| **Cabin** | Thiếu $\\approx 77\\%$. | **Kỹ thuật Đặc trưng:** Tạo biến nhị phân **`Cabin_Known`** (hoặc trích xuất chữ cái đầu tiên). |\n",
    "| **Name** | Văn bản thô. | **Kỹ thuật Đặc trưng:** Trích xuất **`Title`** (Danh xưng) và sử dụng như một đặc trưng định tính. |"
   ]
  },
  {
   "cell_type": "markdown",
   "id": "b3fdf3b5",
   "metadata": {},
   "source": [
    "**Ghi chú:** File này dừng ở phần EDA chuyên sâu và chiến lược tiền xử lý, theo yêu cầu. Không thêm phần mô hình hóa hay kết luận tổng quát."
   ]
  }
 ],
 "metadata": {},
 "nbformat": 4,
 "nbformat_minor": 5
}
