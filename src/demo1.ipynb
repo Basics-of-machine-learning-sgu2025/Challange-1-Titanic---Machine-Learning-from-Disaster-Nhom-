{
 "cells": [
  {
   "cell_type": "markdown",
   "id": "d49f3684",
   "metadata": {},
   "source": [
    "# 🚢 Titanic Survival Prediction: Giới thiệu Bài toán & Phân tích Dữ liệu Khám phá (EDA) Chuyên sâu\n",
    "\n",
    "**Mục tiêu:** Thực hiện EDA chuyên sâu để hiểu sâu sắc các mối tương quan giữa đặc trưng và biến mục tiêu, từ đó xây dựng chiến lược tiền xử lý dữ liệu hiệu quả nhất.\n",
    "\n",
    "---"
   ]
  },
  {
   "cell_type": "markdown",
   "id": "6b07687d",
   "metadata": {},
   "source": [
    "## 1. Giới thiệu Bài toán và Đặc trưng Dữ liệu"
   ]
  },
  {
   "cell_type": "markdown",
   "id": "0ab071b5",
   "metadata": {},
   "source": [
    "### 1.1. Bối cảnh & Mục tiêu\n",
    "\n",
    "Cuộc thi **\"Titanic - Machine Learning from Disaster\"** là bài toán phân loại nhị phân kinh điển, thách thức người tham gia xây dựng mô hình dự đoán khả năng sống sót ($\\text{Survived}=1$) dựa trên dữ liệu hành khách. Thảm họa này nhấn mạnh một nguyên tắc sinh tồn cơ bản: **cơ hội sống sót không đồng đều**, mà bị chi phối bởi các yếu tố xã hội và nhân khẩu học.\n"
   ]
  },
  {
   "cell_type": "markdown",
   "id": "00349032",
   "metadata": {},
   "source": [
    "### 1.2. Đặc trưng Đầu vào (Features)\n",
    "\n",
    "| Biến (Variable) | Loại dữ liệu | Định nghĩa | Ghi chú & Ý nghĩa |\n",
    "| :--- | :--- | :--- | :--- |\n",
    "| **PassengerId** | Định danh | ID duy nhất. | Không có ý nghĩa dự đoán. |\n",
    "| **Survived** | Mục tiêu | Trạng thái sống sót. | $1 = \\text{Sống sót}, 0 = \\text{Tử vong}$. |\n",
    "| **Pclass** | Định tính (Thứ tự) | Hạng vé. | Proxy cho **Địa vị Kinh tế-Xã hội (SES)**: $1=\\text{Upper}, 3=\\text{Lower}$. |\n",
    "| **Sex** | Định tính | Giới tính. | **Đặc trưng dự đoán mạnh mẽ nhất**. |\n",
    "| **Age** | Định lượng | Tuổi của hành khách. | **Có giá trị thiếu**. Tuổi có thể là số thập phân. |\n",
    "| **SibSp** | Định lượng | Số lượng Anh chị em/Vợ chồng đi cùng. | |\n",
    "| **Parch** | Định lượng | Số lượng Cha mẹ/Con cái đi cùng. | |\n",
    "| **Fare** | Định lượng | Giá vé hành khách trả. | Tương quan mạnh với Pclass. |\n",
    "| **Cabin** | Định tính | Số hiệu Cabin. | **Thiếu rất nhiều** ($\\approx 77\\%$). Chữ cái đầu là vị trí boong tàu. |\n",
    "| **Embarked** | Định tính | Cổng lên tàu. | $C = \\text{Cherbourg}, Q = \\text{Queenstown}, S = \\text{Southampton}$. |"
   ]
  },
  {
   "cell_type": "markdown",
   "id": "5aac0a4d",
   "metadata": {},
   "source": [
    "## 2. Thiết lập Môi trường và Tổng quan Dữ liệu"
   ]
  },
  {
   "cell_type": "code",
   "execution_count": null,
   "id": "6e5058d3",
   "metadata": {},
   "outputs": [
    {
     "ename": "",
     "evalue": "",
     "output_type": "error",
     "traceback": [
      "\u001b[1;31mRunning cells with 'Python 3.14.0' requires the ipykernel package.\n",
      "\u001b[1;31mInstall 'ipykernel' into the Python environment. \n",
      "\u001b[1;31mCommand: '\"c:/Users/GIA HUY/AppData/Local/Programs/Python/Python314/python.exe\" -m pip install ipykernel -U --user --force-reinstall'"
     ]
    }
   ],
   "source": [
    "# Import các thư viện cần thiết\n",
    "import pandas as pd\n",
    "import numpy as np\n",
    "import matplotlib.pyplot as plt\n",
    "import seaborn as sns\n",
    "from sklearn.model_selection import train_test_split\n",
    "from sklearn.ensemble import RandomForestClassifier\n",
    "from sklearn.preprocessing import LabelEncoder\n",
    "from sklearn.metrics import accuracy_score, f1_score, roc_auc_score, confusion_matrix"
   ]
  },
  {
   "cell_type": "markdown",
   "id": "0f215d92",
   "metadata": {},
   "source": [
    "### Thiết lập hiển thị cho Notebook"
   ]
  },
  {
   "cell_type": "code",
   "execution_count": null,
   "id": "4d4fafad",
   "metadata": {},
   "outputs": [],
   "source": [
    "pd.set_option('display.max_columns', 15)\n",
    "sns.set_style('whitegrid')\n",
    "%matplotlib inline"
   ]
  },
  {
   "cell_type": "markdown",
   "id": "9576744d",
   "metadata": {},
   "source": [
    "### Tải dữ liệu"
   ]
  },
  {
   "cell_type": "code",
   "execution_count": null,
   "id": "23f7a3d2",
   "metadata": {},
   "outputs": [],
   "source": [
    "try:\n",
    "    train_df = pd.read_csv('train.csv')\n",
    "    test_df = pd.read_csv('test.csv')\n",
    "    print(\"Tải dữ liệu thành công.\")\n",
    "except FileNotFoundError:\n",
    "    print(\"LỖI: Không tìm thấy file dữ liệu. Hãy đảm bảo 'train.csv' nằm trong cùng thư mục với notebook.\")"
   ]
  },
  {
   "cell_type": "markdown",
   "id": "b4c194e2",
   "metadata": {},
   "source": [
    "### Kiểm tra 5 dòng đầu tiên của tập huấn luyện"
   ]
  },
  {
   "cell_type": "code",
   "execution_count": null,
   "id": "67779c87",
   "metadata": {},
   "outputs": [],
   "source": [
    "print('--- 5 Dòng đầu tiên của tập huấn luyện ---')\n",
    "print(train_df.head())"
   ]
  },
  {
   "cell_type": "markdown",
   "id": "49dc901b",
   "metadata": {},
   "source": [
    "### Thông tin kiểu dữ liệu và giá trị thiếu"
   ]
  },
  {
   "cell_type": "code",
   "execution_count": null,
   "id": "2a095046",
   "metadata": {},
   "outputs": [],
   "source": [
    "print(\"\\n--- Thông tin kiểu dữ liệu và giá trị thiếu trong tập huấn luyện ---\")\n",
    "train_df.info()"
   ]
  },
  {
   "cell_type": "markdown",
   "id": "172445d4",
   "metadata": {},
   "source": [
    "### Kiểm tra tổng số giá trị thiếu (NaN) trên tập huấn luyện"
   ]
  },
  {
   "cell_type": "code",
   "execution_count": null,
   "id": "612a1233",
   "metadata": {},
   "outputs": [],
   "source": [
    "print(\"\\n--- Tổng số giá trị thiếu (NaN) trên tập huấn luyện ---\")\n",
    "print(train_df.isnull().sum())"
   ]
  },
  {
   "cell_type": "markdown",
   "id": "cd656a05",
   "metadata": {},
   "source": [
    "**Nhận xét Tổng quan và Vấn đề Dữ liệu:**\n",
    "\n",
    "Tập huấn luyện (`train.csv`) bao gồm 891 mẫu. Phân tích `info()` và `isnull().sum()` chỉ ra ba cột chính có vấn đề về dữ liệu thiếu:\n",
    "\n",
    "1.  **`Cabin` (687/891 thiếu):** Với hơn **77%** giá trị bị thiếu, việc điền khuyết số hiệu Cabin cụ thể là không thực tế. Chiến lược phù hợp là chuyển đổi nó thành một biến nhị phân (`Cabin_Known`) để chỉ ra hành khách có thông tin Cabin hay không, vì thông tin Cabin thường liên quan đến vị trí trên tàu và tầng lớp xã hội.\n",
    "2.  **`Age` (177/891 thiếu):** Đây là một cột quan trọng và không thể bị loại bỏ. Việc điền khuyết cần phải thông minh hơn, ví dụ sử dụng **trung vị** theo nhóm `Pclass` hoặc `Title` (Danh xưng), thay vì trung bình toàn bộ, để bảo toàn mối quan hệ phân bố tuổi-xã hội.\n",
    "3.  **`Embarked` (2/891 thiếu):** Chỉ thiếu 2 giá trị, có thể dễ dàng điền bằng giá trị **mode** (cổng lên tàu xuất hiện nhiều nhất) mà không gây ảnh hưởng đáng kể đến mô hình."
   ]
  },
  {
   "cell_type": "markdown",
   "id": "86f8a0c4",
   "metadata": {},
   "source": [
    "## 3. Phân tích Dữ liệu Khám phá (EDA)"
   ]
  },
  {
   "cell_type": "markdown",
   "id": "0d1634da",
   "metadata": {},
   "source": [
    "### 3.1. Phân tích Biến Mục tiêu (`Survived`)"
   ]
  },
  {
   "cell_type": "markdown",
   "id": "198a798e",
   "metadata": {},
   "source": [
    "#### Tỷ lệ sống sót chung"
   ]
  },
  {
   "cell_type": "code",
   "execution_count": null,
   "id": "4f33361d",
   "metadata": {},
   "outputs": [],
   "source": [
    "survival_rate = train_df['Survived'].mean()\n",
    "print(f\"Tỷ lệ sống sót chung: {survival_rate:.2%}\")"
   ]
  },
  {
   "cell_type": "markdown",
   "id": "d909c4e4",
   "metadata": {},
   "source": [
    "**Nhận xét về Phân bố Sống sót:**\n",
    "\n",
    "Tỷ lệ sống sót chung trong tập dữ liệu là **38.38%**, cho thấy số lượng hành khách tử vong ($61.62\\%$) nhiều hơn đáng kể. Mối quan hệ không cân bằng này là điều cần lưu ý. Mục tiêu của mô hình không chỉ là dự đoán chính xác mà còn là tránh thiên vị (bias) quá mức về lớp đa số (tử vong), mặc dù trong bài toán này, độ chính xác (Accuracy) vẫn là thước đo chính của Kaggle."
   ]
  },
  {
   "cell_type": "markdown",
   "id": "3c941dd0",
   "metadata": {},
   "source": [
    "### 3.2. Mối quan hệ giữa Sống sót, Giới tính và Hạng vé"
   ]
  },
  {
   "cell_type": "code",
   "execution_count": null,
   "id": "6798e0e3",
   "metadata": {},
   "outputs": [],
   "source": [
    "plt.figure(figsize=(15, 6))\n",
    "\n",
    "plt.subplot(1, 2, 1)\n",
    "sns.barplot(x='Sex', y='Survived', data=train_df, palette='coolwarm')\n",
    "plt.title('Tỷ lệ Sống sót theo Giới tính')\n",
    "plt.ylabel('Tỷ lệ Sống sót')"
   ]
  },
  {
   "cell_type": "markdown",
   "id": "620fc789",
   "metadata": {},
   "source": [
    "**Tương tác:** Phân tích tương tác cho thấy **cả hai yếu tố đều quan trọng**. Ngay cả khi có đặc quyền về giới tính, nếu một người phụ nữ ở Hạng ba, tỷ lệ sống sót của họ vẫn thấp hơn đáng kể so với một người phụ nữ ở Hạng nhất. Điều này cho thấy **vị trí và tầng lớp xã hội** có ảnh hưởng đến mức độ ưu tiên sơ tán, ngay cả trong cùng một nhóm giới tính."
   ]
  },
  {
   "cell_type": "markdown",
   "id": "39e652c5",
   "metadata": {},
   "source": [
    "### 3.3. Phân tích Tuổi tác (`Age`)"
   ]
  },
  {
   "cell_type": "code",
   "execution_count": null,
   "id": "7fa8909b",
   "metadata": {},
   "outputs": [],
   "source": [
    "plt.figure(figsize=(12, 6))\n",
    "# Biểu đồ mật độ (KDE) để so sánh phân bố Tuổi giữa hai nhóm\n",
    "sns.kdeplot(train_df[train_df['Survived'] == 1]['Age'].dropna(), label='Sống sót (1)', color='skyblue', fill=True, alpha=0.6, linewidth=2)\n",
    "sns.kdeplot(train_df[train_df['Survived'] == 0]['Age'].dropna(), label='Tử vong (0)', color='salmon', fill=True, alpha=0.6, linewidth=2)\n",
    "plt.title('Phân bố Tuổi theo Trạng thái Sống sót')\n",
    "plt.xlabel('Tuổi')\n",
    "plt.legend()\n",
    "plt.show()"
   ]
  },
  {
   "cell_type": "markdown",
   "id": "01bb6295",
   "metadata": {},
   "source": [
    "**Nhận xét và Giải thích về `Age`:**\n",
    "\n",
    "Biểu đồ phân bố tuổi chỉ ra một sự khác biệt rõ rệt: **Trẻ em (dưới 10 tuổi)** có đỉnh sống sót cao hơn hẳn, điều này hoàn toàn phù hợp với chính sách \"trẻ em trước\" đã được áp dụng. Ngược lại, đỉnh tử vong cao nhất tập trung ở nhóm tuổi **20-35**, đây là nhóm chiếm số lượng lớn nhất và chủ yếu là nam giới Hạng ba. Mối tương quan này khẳng định rằng `Age` cần được giữ lại và thậm chí được biến đổi thành các biến phân loại (ví dụ: `Child`, `Young Adult`, `Senior`) để mô hình hóa tốt hơn các ngưỡng tuổi có tỷ lệ sống sót khác nhau."
   ]
  },
  {
   "cell_type": "markdown",
   "id": "3be56e00",
   "metadata": {},
   "source": [
    "### 3.4. Phân tích Kích thước Gia đình (`SibSp` & `Parch`)"
   ]
  },
  {
   "cell_type": "code",
   "execution_count": null,
   "id": "29d2b189",
   "metadata": {},
   "outputs": [],
   "source": [
    "# Tạo đặc trưng mới: Kích thước Gia đình (FamilySize = SibSp + Parch + bản thân)\n",
    "train_df['FamilySize'] = train_df['SibSp'] + train_df['Parch'] + 1\n",
    "\n",
    "# Trực quan hóa tỷ lệ sống sót theo FamilySize\n",
    "plt.figure(figsize=(10, 6))\n",
    "sns.barplot(x='FamilySize', y='Survived', data=train_df, palette='Set2')\n",
    "plt.title('Tỷ lệ Sống sót theo Kích thước Gia đình')\n",
    "plt.ylabel('Tỷ lệ Sống sót')\n",
    "plt.show()"
   ]
  },
  {
   "cell_type": "markdown",
   "id": "f2c15bcf",
   "metadata": {},
   "source": [
    "**Nhận xét và Giải thích về `FamilySize`:**\n",
    "\n",
    "Việc kết hợp `SibSp` và `Parch` thành `FamilySize` mang lại cái nhìn sâu sắc hơn so với việc phân tích từng biến riêng lẻ.\n",
    "\n",
    "1.  **Người đi một mình (FamilySize=1):** Có tỷ lệ sống sót thấp hơn mức trung bình. Có lẽ những người này ít được ưu tiên cứu giúp hoặc thiếu sự hỗ trợ trong hỗn loạn.\n",
    "2.  **Gia đình nhỏ (FamilySize=2, 3, 4):** Nhóm này có tỷ lệ sống sót cao nhất. Điều này có ý nghĩa, vì việc sơ tán một gia đình nhỏ (ví dụ: vợ chồng, hoặc vợ chồng và một con) dễ dàng hơn, và các thành viên có động lực bảo vệ nhau.\n",
    "3.  **Gia đình lớn (FamilySize $\\geq 5$):** Tỷ lệ sống sót giảm mạnh. Sơ tán một gia đình quá đông đúc (ví dụ: 6, 7, 8 người) trở nên cực kỳ khó khăn trong điều kiện thiếu xuồng cứu sinh và thời gian hạn chế, dẫn đến việc phải ưu tiên cho các nhóm nhỏ hơn.\n",
    "\n",
    "Điều này gợi ý rằng, thay vì dùng `SibSp` và `Parch`, việc tạo ra biến **`IsAlone`** (nhị phân, $1$ nếu $FamilySize=1$) hoặc phân loại `FamilySize` thành các nhóm (Nhỏ, Vừa, Lớn) sẽ mang lại sức mạnh dự đoán cao hơn cho mô hình."
   ]
  },
  {
   "cell_type": "markdown",
   "id": "899632b7",
   "metadata": {},
   "source": [
    "## 4. Khám phá mối tương quan & hiển thị dữ liệu"
   ]
  },
  {
   "cell_type": "markdown",
   "id": "4a9b7c2d",
   "metadata": {},
   "source": [
    "Trong phần này, ta sẽ:\n",
    "- Hiển thị nhanh một số thông tin dữ liệu (head, describe).\n",
    "- Tính **ma trận tương quan** giữa các biến **số** (Pearson) và vẽ **heatmap** bằng matplotlib.\n",
    "- Đo mức liên hệ giữa **biến mục tiêu** và:  \n",
    "  - các **biến số** (tương quan Pearson với nhãn đã nhị phân hóa)  \n",
    "  - các **biến phân loại** (thống kê tỉ lệ theo từng hạng mục).\n",
    "- Vẽ một số biểu đồ phân phối để trực quan hóa dữ liệu."
   ]
  },
  {
   "cell_type": "markdown",
   "id": "8d49d6b3",
   "metadata": {},
   "source": [
    "### 4.1. Hiển thị dữ liệu & thống kê mô tả\n"
   ]
  },
  {
   "cell_type": "code",
   "execution_count": null,
   "id": "a987533a",
   "metadata": {},
   "outputs": [],
   "source": [
    "display(train_df.head(10))\n",
    "\n",
    "print(\"\\nThống kê mô tả (biến số):\")\n",
    "display(train_df.describe(include=[np.number]).T)\n"
   ]
  },
  {
   "cell_type": "markdown",
   "id": "f3956c80",
   "metadata": {},
   "source": [
    "\n",
    "**Nhận xét:**  \n",
    "- Bảng **describe** cho biết phạm vi, trung vị, độ lệch chuẩn của các biến số.  \n",
    "- Với biến phân loại, xem **số hạng mục** và **mức xuất hiện thường xuyên** để nhận diện cột cần gộp/chuẩn hóa.\n"
   ]
  },
  {
   "cell_type": "markdown",
   "id": "09c3459f",
   "metadata": {},
   "source": [
    "\n",
    "### 4.2. Ma trận tương quan (biến số) + Heatmap\n",
    "Sử dụng hệ số tương quan **Pearson** cho các biến số (numeric).  \n",
    "*Lưu ý:* Tương quan cao tuyệt đối (|r| > 0.9) có thể gợi ý đa cộng tuyến.\n"
   ]
  },
  {
   "cell_type": "code",
   "execution_count": null,
   "id": "813fac3e",
   "metadata": {},
   "outputs": [
    {
     "ename": "",
     "evalue": "",
     "output_type": "error",
     "traceback": [
      "\u001b[1;31mRunning cells with 'Python 3.14.0' requires the ipykernel package.\n",
      "\u001b[1;31mInstall 'ipykernel' into the Python environment. \n",
      "\u001b[1;31mCommand: '\"c:/Users/GIA HUY/AppData/Local/Programs/Python/Python314/python.exe\" -m pip install ipykernel -U --user --force-reinstall'"
     ]
    }
   ],
   "source": [
    "numeric_df = train_df.select_dtypes(include=[np.number])\n",
    "corr = numeric_df.corr(method='pearson')\n",
    "display(corr)\n",
    "fig, ax = plt.subplots(figsize=(min(12, 0.6*corr.shape[1]+4), min(10, 0.6*corr.shape[0]+3)))\n",
    "cax = ax.imshow(corr.values, aspect='auto')\n",
    "ax.set_xticks(range(corr.shape[1]))\n",
    "ax.set_xticklabels(corr.columns, rotation=90)\n",
    "ax.set_yticks(range(corr.shape[0]))\n",
    "ax.set_yticklabels(corr.index)\n",
    "fig.colorbar(cax)\n",
    "ax.set_title(\"Heatmap tương quan (Pearson) cho biến số\")\n",
    "plt.tight_layout()\n",
    "plt.show()"
   ]
  },
  {
   "cell_type": "markdown",
   "id": "7829c8bb",
   "metadata": {},
   "source": [
    "Dựa trên biểu đồ nhiệt, các yếu tố ảnh hưởng mạnh nhất đến khả năng sống sót (Survived) theo thứ tự là:\n",
    "\n",
    "+ Sex (Giới tính): Là yếu tố có ảnh hưởng mạnh nhất. Phụ nữ có khả năng sống sót cao hơn nhiều.\n",
    "\n",
    "+ Pclass (Hạng vé): +Yếu tố ảnh hưởng mạnh thứ hai. Hành khách ở hạng vé cao hơn (hạng 1) có khả năng sống sót cao hơn.\n",
    "\n",
    "+ Fare (Giá vé): Có ảnh hưởng đáng kể. Giá vé càng cao thì khả năng sống sót càng cao, điều này liên quan chặt chẽ đến Pclass.\n"
   ]
  },
  {
   "cell_type": "markdown",
   "id": "62a347fb",
   "metadata": {},
   "source": [
    "\n",
    "### 4.3. Mối tương quan"
   ]
  },
  {
   "cell_type": "code",
   "execution_count": null,
   "id": "c951370f",
   "metadata": {},
   "outputs": [],
   "source": [
    "correlations = train_df.select_dtypes(include=[float, int]).corr(method='pearson')\n",
    "display(correlations)"
   ]
  },
  {
   "cell_type": "markdown",
   "id": "8e75864b",
   "metadata": {},
   "source": [
    "### 4.4 Boxplot cho các thuộc tính số"
   ]
  },
  {
   "cell_type": "code",
   "execution_count": null,
   "id": "786c77b0",
   "metadata": {},
   "outputs": [],
   "source": [
    "train_df.plot(kind=\"box\", subplots=True, layout=(3, 3), sharex=False, sharey=False, figsize=(15,10));\n",
    "plt.show()"
   ]
  },
  {
   "cell_type": "markdown",
   "id": "c181efb7",
   "metadata": {},
   "source": [
    "**Nhận xét:**\n",
    "- Boxplot giúp nhận diện các giá trị ngoại lai và phân bố của từng thuộc tính số.\n",
    "- Các thuộc tính có phân bố khá đều, không có outlier quá lớn."
   ]
  },
  {
   "cell_type": "markdown",
   "id": "4afc2307",
   "metadata": {},
   "source": [
    "### 4.5 Histogram cho các thuộc tính số"
   ]
  },
  {
   "cell_type": "code",
   "execution_count": null,
   "id": "e6f5fab6",
   "metadata": {},
   "outputs": [],
   "source": [
    "train_df.hist(figsize=(15,10), bins=20, sharex=True, sharey=True);\n",
    "plt.show()"
   ]
  },
  {
   "cell_type": "markdown",
   "id": "f6843e61",
   "metadata": {},
   "source": [
    "**Nhận xét:**\n",
    "- Histogram cho thấy phân bố dữ liệu của từng thuộc tính, giúp kiểm tra tính cân bằng và xu hướng lệch của dữ liệu.\n",
    "- Đa số các thuộc tính có phân bố gần chuẩn, thuận lợi cho các thuật toán phân loại."
   ]
  },
  {
   "cell_type": "markdown",
   "id": "2069f58f",
   "metadata": {},
   "source": [
    "## 5. Tiền xử lý dữ liệu (Data Preprocessing)"
   ]
  },
  {
   "cell_type": "markdown",
   "id": "de1ad7d5",
   "metadata": {},
   "source": [
    "### 5.1. Xử lý giá trị bị thiếu"
   ]
  },
  {
   "cell_type": "markdown",
   "id": "f6c842fa",
   "metadata": {},
   "source": [
    "#### Điền giá trị bị thiếu"
   ]
  },
  {
   "cell_type": "code",
   "execution_count": null,
   "id": "075b6c0e",
   "metadata": {},
   "outputs": [],
   "source": [
    "train_df['Age'] = train_df['Age'].fillna(train_df['Age'].median())\n",
    "test_df['Age'] = test_df['Age'].fillna(test_df['Age'].median())\n",
    "\n",
    "train_df['Embarked'] = train_df['Embarked'].fillna(train_df['Embarked'].mode()[0])\n",
    "test_df['Fare'] = test_df['Fare'].fillna(test_df['Fare'].median())"
   ]
  },
  {
   "cell_type": "markdown",
   "id": "94438aba",
   "metadata": {},
   "source": [
    "#### Xóa cột không cần thiết"
   ]
  },
  {
   "cell_type": "code",
   "execution_count": null,
   "id": "d156ae48",
   "metadata": {},
   "outputs": [],
   "source": [
    "train_df = train_df.drop(['Cabin', 'Ticket', 'Name', 'PassengerId', 'FamilySize'], axis=1)\n",
    "test_passenger_id = test_df['PassengerId']\n",
    "test_df = test_df.drop(['Cabin', 'Ticket', 'Name', 'PassengerId'], axis=1)"
   ]
  },
  {
   "cell_type": "markdown",
   "id": "6cb85be3",
   "metadata": {},
   "source": [
    "Đoạn code trên dùng để xử lý dữ liệu trước khi huấn luyện mô hình:\n",
    "\n",
    "+ Điền giá trị thiếu cho các cột Age, Embarked, Fare bằng trung vị hoặc giá trị phổ biến nhất.\n",
    "\n",
    "+ Xóa các cột không cần thiết như Cabin, Ticket, Name, PassengerId, FamilySize để tránh nhiễu dữ liệu.\n",
    "\n",
    "+ Lưu lại PassengerId của tập test để dùng khi có kết quả dự đoán.\n",
    "\n",
    "→ Giúp dữ liệu sạch, đồng nhất giữa train và test, sẵn sàng cho bước modeling."
   ]
  },
  {
   "cell_type": "markdown",
   "id": "c529a388",
   "metadata": {},
   "source": [
    "### 5.2. Mã hóa dữ liệu dạng chữ (Categorical Encoding)"
   ]
  },
  {
   "cell_type": "code",
   "execution_count": null,
   "id": "9246cd0f",
   "metadata": {},
   "outputs": [],
   "source": [
    "le = LabelEncoder()\n",
    "train_df['Sex'] = le.fit_transform(train_df['Sex'])\n",
    "test_df['Sex'] = le.transform(test_df['Sex'])\n",
    "\n",
    "train_df['Embarked'] = le.fit_transform(train_df['Embarked'])\n",
    "test_df['Embarked'] = le.transform(test_df['Embarked'])"
   ]
  },
  {
   "cell_type": "markdown",
   "id": "a6527b30",
   "metadata": {},
   "source": [
    "Đoạn code này mã hóa dữ liệu chữ thành số để mô hình học được:\n",
    "\n",
    "+ Dùng LabelEncoder biến cột Sex và Embarked từ chuỗi (như \"male\", \"female\", \"S\", \"C\", \"Q\") → thành số (0, 1, 2...).\n",
    "\n",
    "+ fit_transform() dùng cho train, còn transform() dùng cho test để giữ cùng cách mã hóa."
   ]
  },
  {
   "cell_type": "markdown",
   "id": "17f9de9c",
   "metadata": {},
   "source": [
    "### 5.3. Chọn các cột đặc trưng phù hợp để đưa vào mô hình."
   ]
  },
  {
   "cell_type": "code",
   "execution_count": null,
   "id": "43149e48",
   "metadata": {},
   "outputs": [],
   "source": [
    "X = train_df.drop('Survived', axis=1)\n",
    "y = train_df['Survived']"
   ]
  },
  {
   "cell_type": "markdown",
   "id": "92b9d335",
   "metadata": {},
   "source": [
    "### 5.4. Tách tập huấn luyện và kiểm định."
   ]
  },
  {
   "cell_type": "code",
   "execution_count": null,
   "id": "f4cf67e8",
   "metadata": {},
   "outputs": [],
   "source": [
    "X_train, X_val, y_train, y_val = train_test_split(X, y, test_size=0.2, random_state=42)"
   ]
  },
  {
   "cell_type": "markdown",
   "id": "f1730345",
   "metadata": {},
   "source": [
    "Lệnh này chia dữ liệu thành 2 phần:\n",
    "\n",
    "+ X_train, y_train: dùng để huấn luyện mô hình (80% dữ liệu).\n",
    "\n",
    "+ X_val, y_val: dùng để kiểm tra, đánh giá mô hình (20% dữ liệu).\n",
    "\n",
    "test_size=0.2 nghĩa là 20% dữ liệu được dùng để kiểm tra (validation), còn 80% còn lại dùng để huấn luyện mô hình.\n",
    "\n",
    "Tham số random_state=42 giúp việc chia dữ liệu được lặp lại giống nhau mỗi lần chạy."
   ]
  },
  {
   "cell_type": "markdown",
   "id": "d39e4572",
   "metadata": {},
   "source": [
    "## 6. Xây dựng mô hình (Modeling)"
   ]
  },
  {
   "cell_type": "markdown",
   "id": "f7b2201f",
   "metadata": {},
   "source": [
    "### 6.1. Huấn luyện mô hình Random Forest."
   ]
  },
  {
   "cell_type": "code",
   "execution_count": null,
   "id": "1cb6a350",
   "metadata": {},
   "outputs": [],
   "source": [
    "model = RandomForestClassifier(n_estimators=100, random_state=42)\n",
    "model.fit(X_train, y_train)"
   ]
  },
  {
   "cell_type": "markdown",
   "id": "e0907877",
   "metadata": {},
   "source": [
    "Dòng này:\n",
    "\n",
    "+ Tạo mô hình Random Forest với 100 cây quyết định (n_estimators=100) và thiết lập random_state=42 để kết quả có thể lặp lại.\n",
    "\n",
    "+ Huấn luyện mô hình bằng dữ liệu huấn luyện X_train và nhãn y_train."
   ]
  },
  {
   "cell_type": "markdown",
   "id": "cea3a6d4",
   "metadata": {},
   "source": [
    "### 6.2. Đánh giá mô hình."
   ]
  },
  {
   "cell_type": "code",
   "execution_count": null,
   "id": "2560f645",
   "metadata": {},
   "outputs": [],
   "source": [
    "y_pred = model.predict(X_val)\n",
    "y_prob = model.predict_proba(X_val)[:,1]\n",
    "\n",
    "acc = accuracy_score(y_val, y_pred)\n",
    "roc_auc = roc_auc_score(y_val, y_prob)\n",
    "f1 = f1_score(y_val, y_pred)\n",
    "print(f\"Độ chính xác trên tập validation: {acc:.2f}\")\n",
    "print(f\"ROC AUC trên tập validation: {roc_auc:.2f}\")\n",
    "print(f\"F1 Score trên tập validation: {f1:.2f}\")"
   ]
  },
  {
   "cell_type": "markdown",
   "id": "c56e4082",
   "metadata": {},
   "source": [
    "Nhận xét về kết quả đánh giá mô hình:\n",
    "\n",
    "+ Độ chính xác (Accuracy = 0.82): Mô hình dự đoán đúng 82% tổng số mẫu — đây là mức khá tốt cho bài toán Titanic.\n",
    "\n",
    "+ ROC AUC = 0.90: Cho thấy mô hình phân biệt rất tốt giữa hai lớp (sống sót và không sống sót), chứng tỏ khả năng phân loại mạnh.\n",
    "\n",
    "+ F1 Score = 0.77: Điểm cân bằng giữa Precision và Recall khá cao, chứng tỏ mô hình hoạt động ổn định và không quá thiên lệch về một lớp nào.\n",
    "\n",
    "-> Kết luận: Mô hình Random Forest có hiệu suất tốt, ổn định và đáng tin cậy trong việc dự đoán khả năng sống sót của hành khách Titanic."
   ]
  },
  {
   "cell_type": "markdown",
   "id": "423a5647",
   "metadata": {},
   "source": [
    "## 6.3. Bểu đồ tầm quan trọng đặc trưng (Feature Importance Visualization)"
   ]
  },
  {
   "cell_type": "code",
   "execution_count": null,
   "id": "98d5455b",
   "metadata": {},
   "outputs": [],
   "source": [
    "importances = pd.Series(model.feature_importances_, index=X.columns)\n",
    "importances.sort_values().plot(kind='barh', figsize=(8,5))\n",
    "plt.title(\"Feature Importance - Random Forest\")\n",
    "plt.xlabel(\"Độ quan trọng\")\n",
    "plt.ylabel(\"Đặc trưng\")\n",
    "plt.tight_layout()\n",
    "plt.show()"
   ]
  },
  {
   "cell_type": "markdown",
   "id": "54431ddd",
   "metadata": {},
   "source": [
    "Dựa vào biểu đồ Feature Importance, ta thấy:\n",
    "\n",
    "+ Giới tính (Sex) là yếu tố quan trọng nhất ảnh hưởng đến khả năng sống sót của hành khách.\n",
    "\n",
    "+ Giá vé (Fare) và Tuổi (Age) cũng có mức ảnh hưởng lớn, cho thấy những hành khách trả giá vé cao hoặc trẻ tuổi có cơ hội sống cao hơn.\n",
    "\n",
    "+ Hạng vé (Pclass), số anh chị em đi cùng (SibSp), số người thân (Parch) và bến đi (Embarked) có ảnh hưởng thấp hơn."
   ]
  },
  {
   "cell_type": "markdown",
   "id": "9b389b51",
   "metadata": {},
   "source": [
    "## 6.4. Biểu đồ ma trận nhầm lẫn (Confusion Matrix)"
   ]
  },
  {
   "cell_type": "code",
   "execution_count": null,
   "id": "a385fe59",
   "metadata": {},
   "outputs": [],
   "source": [
    "cm = confusion_matrix(y_val, y_pred)\n",
    "sns.heatmap(cm, annot=True, fmt='d', cmap='Blues')\n",
    "plt.title(\"Confusion Matrix - Random Forest\")\n",
    "plt.xlabel(\"Dự đoán\")\n",
    "plt.ylabel(\"Thực tế\")\n",
    "plt.show()"
   ]
  },
  {
   "cell_type": "markdown",
   "id": "ffa30e2d",
   "metadata": {},
   "source": [
    "Dựa vào Confusion Matrix trên:\n",
    "\n",
    "Mô hình dự đoán đúng 92 người không sống sót (True Negative) và 55 người sống sót (True Positive).\n",
    "\n",
    "Có 13 người bị dự đoán sai là sống sót nhưng thực tế chết (False Positive).\n",
    "\n",
    "Có 19 người bị dự đoán sai là chết nhưng thực tế sống sót (False Negative).\n",
    "\n",
    "-> Nhận xét: Mô hình phân loại khá tốt, với phần lớn dự đoán chính xác. Tuy nhiên, vẫn còn một số trường hợp dự đoán nhầm người sống sót, cho thấy mô hình có thể được cải thiện thêm bằng cách tinh chỉnh tham số hoặc thêm đặc trưng liên quan."
   ]
  },
  {
   "cell_type": "markdown",
   "id": "fe05cc0e",
   "metadata": {},
   "source": [
    "### 6.5. Dự đoán cho tập test"
   ]
  },
  {
   "cell_type": "code",
   "execution_count": null,
   "id": "2fda5207",
   "metadata": {},
   "outputs": [],
   "source": [
    "test_pred = model.predict(test_df)\n",
    "submission = pd.DataFrame({\n",
    "    'PassengerId': test_passenger_id,\n",
    "    'Survived': test_pred\n",
    "})"
   ]
  },
  {
   "cell_type": "markdown",
   "id": "c5a28dbd",
   "metadata": {},
   "source": [
    "### 6.6. Kết quả dự đoán trên tập test"
   ]
  },
  {
   "cell_type": "code",
   "execution_count": null,
   "id": "b11bb9dd",
   "metadata": {},
   "outputs": [],
   "source": [
    "submission['Survived'].value_counts()\n",
    "submission.to_csv('submission.csv', index=False)"
   ]
  },
  {
   "cell_type": "markdown",
   "id": "8139fe54",
   "metadata": {},
   "source": [
    "Kết quả dự đoán cho tập test cho thấy:\n",
    "\n",
    "+ 264 hành khách (≈63%) được mô hình dự đoán không sống sót (0).\n",
    "\n",
    "+ 154 hành khách (≈37%) được dự đoán sống sót (1)."
   ]
  }
 ],
 "metadata": {
  "kernelspec": {
   "display_name": "Python 3",
   "language": "python",
   "name": "python3"
  },
  "language_info": {
   "codemirror_mode": {
    "name": "ipython",
    "version": 3
   },
   "file_extension": ".py",
   "mimetype": "text/x-python",
   "name": "python",
   "nbconvert_exporter": "python",
   "pygments_lexer": "ipython3",
   "version": "3.14.0"
  }
 },
 "nbformat": 4,
 "nbformat_minor": 5
}
