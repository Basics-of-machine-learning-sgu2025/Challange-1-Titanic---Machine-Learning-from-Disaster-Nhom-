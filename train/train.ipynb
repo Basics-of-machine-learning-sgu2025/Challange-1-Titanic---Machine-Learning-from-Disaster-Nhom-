{
 "cells": [
  {
   "cell_type": "markdown",
   "id": "5b9f33e6",
   "metadata": {
    "id": "5b9f33e6"
   },
   "source": [
    "# Import Libraries"
   ]
  },
  {
   "cell_type": "code",
   "execution_count": 1,
   "id": "728adc9a",
   "metadata": {
    "id": "728adc9a"
   },
   "outputs": [],
   "source": [
    "# %load_ext autoreload\n",
    "# %reload_ext autoreload # This line is causing the error and can be removed.\n",
    "# %autoreload 2 # This line is also causing an error and can be removed\n",
    "\n",
    "import os\n",
    "import numpy as np\n",
    "import pandas as pd\n",
    "import matplotlib.pyplot as plt\n",
    "import seaborn as sns\n",
    "import string\n",
    "from IPython import display\n",
    "\n",
    "import warnings\n",
    "warnings.filterwarnings('ignore')\n",
    "\n",
    "from sklearn.preprocessing import LabelEncoder\n",
    "from sklearn.metrics import roc_curve, auc, accuracy_score, classification_report, confusion_matrix, roc_auc_score\n",
    "from sklearn.model_selection import StratifiedKFold\n",
    "from sklearn.linear_model import LogisticRegression\n",
    "from sklearn.neighbors import KNeighborsClassifier\n",
    "from sklearn.svm import SVC\n",
    "from sklearn.ensemble import RandomForestClassifier"
   ]
  },
  {
   "cell_type": "markdown",
   "id": "fd9737bf",
   "metadata": {
    "id": "fd9737bf"
   },
   "source": [
    "# Data Load"
   ]
  },
  {
   "cell_type": "code",
   "execution_count": 2,
   "id": "6d19b98e",
   "metadata": {
    "colab": {
     "base_uri": "https://localhost:8080/"
    },
    "id": "6d19b98e",
    "outputId": "6d01270a-8682-401e-c765-6f5f2ddd2d48"
   },
   "outputs": [],
   "source": [
    "df_train = pd.read_csv('../data/train.csv')\n",
    "df_test = pd.read_csv('../data/test.csv')\n",
    "\n"
   ]
  },
  {
   "cell_type": "markdown",
   "id": "c082e3d2",
   "metadata": {
    "id": "c082e3d2"
   },
   "source": [
    "# Preprocessing and Fearture Engineering"
   ]
  },
  {
   "cell_type": "markdown",
   "id": "b35cccb9",
   "metadata": {},
   "source": [
    "## Tạo cột FamilySize = SibSp + Parch + 1"
   ]
  },
  {
   "cell_type": "code",
   "execution_count": 3,
   "id": "bbfeb366",
   "metadata": {},
   "outputs": [],
   "source": [
    "def create_family_size(df):\n",
    "    return df[\"SibSp\"] + df[\"Parch\"] + 1"
   ]
  },
  {
   "cell_type": "markdown",
   "id": "06ca2b0a",
   "metadata": {},
   "source": [
    "## Mã hóa giới tính: female=0, male=1"
   ]
  },
  {
   "cell_type": "code",
   "execution_count": 4,
   "id": "2c12159c",
   "metadata": {},
   "outputs": [],
   "source": [
    "def encode_sex(df):\n",
    "    cls_sex = {'female': 0, 'male': 1}\n",
    "    return df[\"Sex\"].map(cls_sex)"
   ]
  },
  {
   "cell_type": "markdown",
   "id": "b843b774",
   "metadata": {},
   "source": [
    "## Điền giá trị thiếu của cột Age bằng median"
   ]
  },
  {
   "cell_type": "code",
   "execution_count": 6,
   "id": "52b32386",
   "metadata": {},
   "outputs": [],
   "source": [
    "def fill_age(df):\n",
    "    return df[\"Age\"].fillna(df[\"Age\"].median())"
   ]
  },
  {
   "cell_type": "markdown",
   "id": "c61cfbe8",
   "metadata": {},
   "source": [
    "## Sao chép các cột cơ bản giữ nguyên"
   ]
  },
  {
   "cell_type": "code",
   "execution_count": 7,
   "id": "f13d562a",
   "metadata": {},
   "outputs": [],
   "source": [
    "def copy_basic_features(df, feature_list):\n",
    "    return df[feature_list].copy()"
   ]
  },
  {
   "cell_type": "markdown",
   "id": "19899702",
   "metadata": {},
   "source": [
    "## Mã hóa Cabin: lấy ký tự đầu tiên và gán giá trị số"
   ]
  },
  {
   "cell_type": "code",
   "execution_count": 8,
   "id": "9a9ca9b3",
   "metadata": {},
   "outputs": [],
   "source": [
    "def encode_cabin(df):\n",
    "    cls_cabin = {'A':1, 'B':2, 'C':3, 'D':4, 'E':5, 'F':6, 'G':7, 'T':8, 'Z':0}\n",
    "    return df['Cabin'].apply(lambda x: cls_cabin['Z'] if pd.isna(x) else cls_cabin.get(x[0], cls_cabin['Z']))\n"
   ]
  },
  {
   "cell_type": "markdown",
   "id": "581a743d",
   "metadata": {},
   "source": [
    "## Mã hóa Embarked: C=1, Q=2, S=3, NaN=0"
   ]
  },
  {
   "cell_type": "code",
   "execution_count": 9,
   "id": "055291c2",
   "metadata": {},
   "outputs": [],
   "source": [
    "def encode_embarked(df):\n",
    "    cls_embarked = {'0': 0, 'C':1, 'Q':2, 'S':3}\n",
    "    return df['Embarked'].apply(lambda x: cls_embarked['0'] if pd.isna(x) else cls_embarked.get(x, 0))"
   ]
  },
  {
   "cell_type": "markdown",
   "id": "204f94b0",
   "metadata": {},
   "source": [
    "## Trích xuất danh xưng (title) từ cột Name"
   ]
  },
  {
   "cell_type": "code",
   "execution_count": 10,
   "id": "553204b6",
   "metadata": {},
   "outputs": [],
   "source": [
    "def extract_surname(df):\n",
    "    surnames = [\n",
    "        'Capt.', 'Col.', 'Don.', 'Dr.', 'Jonkheer.', 'Lady.', 'Major.',\n",
    "        'Master.', 'Miss.', 'Mlle.', 'Mme.', 'Mr.', 'Mrs.', 'Ms.',\n",
    "        'Rev.', 'Sir.', 'the', 'Dona.'\n",
    "    ]\n",
    "    cls_surnames = dict(zip(surnames, range(len(surnames))))\n",
    "    def get_title(name):\n",
    "        try:\n",
    "            title = name.split(',')[1].split(' ')[1]\n",
    "            return cls_surnames.get(title, -1)\n",
    "        except Exception:\n",
    "            return -1\n",
    "\n",
    "    return df['Name'].apply(get_title)"
   ]
  },
  {
   "cell_type": "markdown",
   "id": "f883b53c",
   "metadata": {},
   "source": [
    "## Hiển thị thông tin thống kê để kiểm tra dữ liệu"
   ]
  },
  {
   "cell_type": "code",
   "execution_count": 11,
   "id": "22d91c90",
   "metadata": {},
   "outputs": [],
   "source": [
    "def debug_info(df):\n",
    "    \n",
    "    print(\"=== DEBUG MODE ===\")\n",
    "    print(\"🔹 Dữ liệu mẫu (head):\")\n",
    "    display.display(df.head(5))\n",
    "\n",
    "    print(\"🔹 Dữ liệu thiếu:\")\n",
    "    display.display(df.isna().sum())\n",
    "\n",
    "    print(\"🔹 Thống kê Age & Fare:\")\n",
    "    print(f\"  Age missing: {df['Age'].isna().sum()}\")\n",
    "    print(f\"  Age median: {df['Age'].median()}\")\n",
    "    display.display(df[\"Fare\"].describe())\n",
    "\n",
    "    print(\"🔹 Thống kê Cabin:\")\n",
    "    display.display(np.unique(\n",
    "        df['Cabin'].apply(lambda x: 'Z0' if pd.isna(x) else x),\n",
    "        return_counts=True\n",
    "    ))\n",
    "\n",
    "    print(\"🔹 Thống kê Embarked:\")\n",
    "    display.display(np.unique(\n",
    "        df['Embarked'].apply(lambda x: '0' if pd.isna(x) else x),\n",
    "        return_counts=True\n",
    "    ))"
   ]
  },
  {
   "cell_type": "markdown",
   "id": "96ca6e8e",
   "metadata": {},
   "source": [
    "## Tiền xử lý dữ liệu đầu vào và lựa chọn đặc trưng cho mô hình học máy ."
   ]
  },
  {
   "cell_type": "code",
   "execution_count": 12,
   "id": "0d26fb7b",
   "metadata": {
    "id": "0d26fb7b"
   },
   "outputs": [],
   "source": [
    "def preprocessing_feature_01(df_data, is_train = True, is_debug = True, **kwargs):\n",
    "    \n",
    "    df_output = pd.DataFrame()\n",
    "\n",
    "    df_output[\"FamilySize\"] = create_family_size(df_data)\n",
    "    df_output[\"Sex\"] = encode_sex(df_data)\n",
    "    df_output[\"Age\"] = fill_age(df_data)\n",
    "\n",
    "    basic_features = copy_basic_features(df_data, ['Fare', 'Pclass'])\n",
    "    df_output = pd.concat([df_output, basic_features], axis=1)\n",
    "\n",
    "    df_output[\"Cabin\"] = encode_cabin(df_data)\n",
    "    df_output[\"Embarked\"] = encode_embarked(df_data)\n",
    "    df_output[\"Surname\"] = extract_surname(df_data)\n",
    "\n",
    "    # --- Nếu là tập train, thêm nhãn đầu ra ---\n",
    "    if is_train:\n",
    "        df_output[\"Output\"] = df_data[\"Survived\"]\n",
    "\n",
    "    # --- In thông tin debug ---\n",
    "    if is_debug:\n",
    "        debug_info(df_data)\n",
    "\n",
    "    return df_output, None\n",
    "\n",
    "# df_train = pd.read_csv(f'{data_dir}/train.csv')"
   ]
  },
  {
   "cell_type": "markdown",
   "id": "1540887d",
   "metadata": {},
   "source": [
    "Hàm này tổng hợp các bước làm sạch và chuyển đổi dữ liệu,\n",
    "giúp dữ liệu sẵn sàng cho việc huấn luyện mô hình.\n",
    "\n",
    "----------------------------------------------------------\n",
    "🔹 Các bước xử lý:\n",
    "1. Tạo đặc trưng mới `FamilySize` = SibSp + Parch + 1\n",
    "2. Mã hóa giới tính (`Sex`) thành số: female=0, male=1\n",
    "3. Điền giá trị thiếu cho `Age` bằng median (trung vị)\n",
    "4. Giữ lại các cột cơ bản: Fare, Pclass, SibSp, Parch\n",
    "5. Mã hóa Cabin → ký tự đầu tiên (A–T) → số; NaN → Z=0\n",
    "6. Mã hóa cổng lên tàu (`Embarked`): C=1, Q=2, S=3, NaN=0\n",
    "7. Trích xuất danh xưng (`Surname`) từ cột Name\n",
    "8. Nếu là tập huấn luyện → thêm cột `Output` (Survived)\n",
    "9. Nếu bật debug → in ra thống kê dữ liệu\n",
    "\n",
    "----------------------------------------------------------\n",
    "Tham số:\n",
    "- df_data : pandas.DataFrame  \n",
    "    Dữ liệu gốc chứa các cột Sex, Age, Fare, Pclass, Cabin, Embarked, Name, ...\n",
    "- is_train : bool, mặc định = True  \n",
    "    Nếu True, thêm cột \"Output\" = Survived.\n",
    "- is_debug : bool, mặc định = True  \n",
    "    Nếu True, hiển thị thông tin kiểm tra dữ liệu.\n",
    "- **kwargs : dict  \n",
    "    Tham số mở rộng cho tương lai (hiện chưa sử dụng).\n",
    "\n",
    "----------------------------------------------------------\n",
    "Giá trị trả về:\n",
    "- df_output : pandas.DataFrame  \n",
    "    Dữ liệu đã tiền xử lý, sẵn sàng cho mô hình.\n",
    "- None : placeholder để tương thích pipeline.\n",
    "\n",
    "----------------------------------------------------------"
   ]
  },
  {
   "cell_type": "markdown",
   "id": "cf5fb5d7",
   "metadata": {
    "id": "cf5fb5d7"
   },
   "source": [
    "# Train"
   ]
  },
  {
   "cell_type": "markdown",
   "id": "690e5829",
   "metadata": {},
   "source": [
    "Tải dữ liệu đặc trưng và huấn luyện nhiều mô hình, hiển thị thêm các metrics."
   ]
  },
  {
   "cell_type": "code",
   "execution_count": 13,
   "id": "154c2a01",
   "metadata": {},
   "outputs": [],
   "source": [
    "def load_features(feat_path):\n",
    "    print(f\" Loading features from: {feat_path}\")\n",
    "    try:\n",
    "        data = np.load(feat_path)\n",
    "        X_train = data['X_train']\n",
    "        y_train = data['y_train']\n",
    "        X_test = data['X_test']\n",
    "        X_cols = data['X_cols']\n",
    "        print(f\" Features loaded: {list(X_cols)}\")\n",
    "        return X_train, y_train, X_test, X_cols\n",
    "    except Exception as e:\n",
    "        print(f\" Error loading {feat_path}: {e}\")\n",
    "        return None\n"
   ]
  },
  {
   "cell_type": "code",
   "execution_count": 14,
   "id": "47d1f610",
   "metadata": {},
   "outputs": [],
   "source": [
    "models = {\n",
    "    'LogisticRegression': LogisticRegression(random_state=42, max_iter=1000),\n",
    "    'KNeighbors': KNeighborsClassifier(),\n",
    "    'SVC': SVC(probability=True, random_state=42),\n",
    "    'RandomForest': RandomForestClassifier(random_state=42)\n",
    "}"
   ]
  },
  {
   "cell_type": "code",
   "execution_count": 15,
   "id": "10aa19ce",
   "metadata": {},
   "outputs": [],
   "source": [
    "def train_and_evaluate_model_with_kfold(feat_path, seed=42):\n",
    "    X_train, y_train, X_test, X_cols = load_features(feat_path)\n",
    "    # Thiết lập Stratified K-Fold\n",
    "    n_splits = 5\n",
    "    skf = StratifiedKFold(n_splits=n_splits, shuffle=True, random_state=seed)\n",
    "    results = {}\n",
    "    for model_name, model in models.items():\n",
    "            print(f\"\\n--- Training {model_name} ---\")\n",
    "            fold_aucs = []\n",
    "            all_y_val = []\n",
    "            all_y_pred_proba = []\n",
    "            all_y_pred = []\n",
    "\n",
    "\n",
    "            for fold, (train_idx, val_idx) in enumerate(skf.split(X_train, y_train)):\n",
    "                # Phân chia dữ liệu\n",
    "                X_train_fold, X_val_fold = X_train[train_idx], X_train[val_idx]\n",
    "                y_train_fold, y_val_fold = y_train[train_idx], y_train[val_idx]\n",
    "\n",
    "                # Huấn luyện\n",
    "                model.fit(X_train_fold, y_train_fold)\n",
    "\n",
    "                # Đánh giá\n",
    "                y_pred_proba = model.predict_proba(X_val_fold)[:, 1]\n",
    "                y_pred = model.predict(X_val_fold)\n",
    "\n",
    "                fold_auc = roc_auc_score(y_val_fold, y_pred_proba)\n",
    "                fold_aucs.append(fold_auc)\n",
    "\n",
    "                all_y_val.extend(y_val_fold)\n",
    "                all_y_pred_proba.extend(y_pred_proba)\n",
    "                all_y_pred.extend(y_pred)\n",
    "\n",
    "\n",
    "                print(f\"  Fold {fold+1} AUC: {fold_auc:.4f}\")\n",
    "                # print(f\"  Fold {fold+1} Accuracy: {accuracy_score(y_val_fold, y_pred):.4f}\")\n",
    "                # print(f\"  Fold {fold+1} Classification Report:\\n{classification_report(y_val_fold, y_pred)}\")\n",
    "                # print(f\"  Fold {fold+1} Confusion Matrix:\\n{confusion_matrix(y_val_fold, y_pred)}\")\n",
    "\n",
    "\n",
    "            mean_auc = np.mean(fold_aucs)\n",
    "            std_auc = np.std(fold_aucs)\n",
    "            print(f\"-> Mean AUC for {model_name}: {mean_auc:.4f} +/- {std_auc:.4f}\")\n",
    "\n",
    "            # Calculate and print overall metrics across all folds\n",
    "            overall_auc = roc_auc_score(all_y_val, all_y_pred_proba)\n",
    "            overall_accuracy = accuracy_score(all_y_val, all_y_pred)\n",
    "            overall_classification_report = classification_report(all_y_val, all_y_pred)\n",
    "            overall_confusion_matrix = confusion_matrix(all_y_val, all_y_pred)\n",
    "            fpr, tpr, thresholds = roc_curve(all_y_val, all_y_pred_proba)\n",
    "\n",
    "            print(f\"\\nOverall Metrics for {model_name}:\")\n",
    "            print(f\"  Overall AUC: {overall_auc:.4f}\")\n",
    "            print(f\"  Overall Accuracy: {overall_accuracy:.4f}\")\n",
    "            print(f\"  Overall Classification Report:\\n{overall_classification_report}\")\n",
    "            print(f\"  Overall Confusion Matrix:\\n{overall_confusion_matrix}\")\n",
    "\n",
    "\n",
    "            results[model_name] = {\n",
    "                \"mean_auc\": mean_auc,\n",
    "                \"std_auc\": std_auc,\n",
    "                \"overall_auc\": overall_auc,\n",
    "                \"overall_accuracy\": overall_accuracy,\n",
    "                \"overall_classification_report\": overall_classification_report,\n",
    "                \"overall_confusion_matrix\": overall_confusion_matrix,\n",
    "                \"fpr\": fpr,\n",
    "                \"tpr\": tpr,\n",
    "                \"thresholds\": thresholds\n",
    "                }\n",
    "    print(\"\\n\" + \"=\"*20, \"Training Complete\", \"=\"*20)\n",
    "    return results\n"
   ]
  },
  {
   "cell_type": "code",
   "execution_count": 16,
   "id": "4e420f78",
   "metadata": {
    "id": "4e420f78"
   },
   "outputs": [],
   "source": [
    "def train_and_evaluate_no_kfold(feat_path, seed):\n",
    "    \n",
    "    X_train, y_train, X_test, X_cols = load_features(feat_path)\n",
    "\n",
    "    results = {}\n",
    "    for model_name, model in models.items():\n",
    "        print(f\"\\n--- Training {model_name} ---\")\n",
    "\n",
    "        # --- Huấn luyện mô hình ---\n",
    "        model.fit(X_train, y_train)\n",
    "\n",
    "        # --- Dự đoán ---\n",
    "        y_pred_proba = model.predict_proba(X_train)[:, 1]\n",
    "        y_pred = model.predict(X_train)\n",
    "\n",
    "        # --- Tính toán các chỉ số đánh giá ---\n",
    "        auc = roc_auc_score(y_train, y_pred_proba)\n",
    "        accuracy = accuracy_score(y_train, y_pred)\n",
    "        report = classification_report(y_train, y_pred)\n",
    "        conf_matrix = confusion_matrix(y_train, y_pred)\n",
    "        fpr, tpr, thresholds = roc_curve(y_train, y_pred_proba)\n",
    "\n",
    "        # --- In kết quả ---\n",
    "        print(f\"{model_name} Results:\")\n",
    "        print(f\"AUC: {auc:.4f}\")\n",
    "        print(f\"Accuracy: {accuracy:.4f}\")\n",
    "        print(f\"Classification Report:\\n{report}\")\n",
    "        print(f\"Confusion Matrix:\\n{conf_matrix}\")\n",
    "\n",
    "        # --- Lưu kết quả ---\n",
    "        results[model_name] = {\n",
    "            \"auc\": auc,\n",
    "            \"accuracy\": accuracy,\n",
    "            \"classification_report\": report,\n",
    "            \"confusion_matrix\": conf_matrix,\n",
    "            \"fpr\": fpr,\n",
    "            \"tpr\": tpr,\n",
    "            \"thresholds\": thresholds\n",
    "        }\n",
    "\n",
    "    print(\"\\n\" + \"=\"*20, \"Training Complete\", \"=\"*20)\n",
    "    return results"
   ]
  },
  {
   "cell_type": "markdown",
   "id": "05b78c3d",
   "metadata": {
    "id": "05b78c3d"
   },
   "source": [
    "# Main"
   ]
  },
  {
   "cell_type": "markdown",
   "id": "d1ee50a3",
   "metadata": {},
   "source": [
    "In thông tin cơ bản về các cột trong train/test."
   ]
  },
  {
   "cell_type": "code",
   "execution_count": 17,
   "id": "a0cac93c",
   "metadata": {},
   "outputs": [],
   "source": [
    "def print_data_info(df_train, df_test):\n",
    "\n",
    "    print(\"-\" * 10, \"Dataset Information\", \"-\" * 10)\n",
    "    print(f\"Train columns: {set(df_train.columns)}\")\n",
    "    print(f\"Test columns:  {set(df_test.columns)}\")\n",
    "    print(\"Union:\", set(df_train.columns).intersection(set(df_test.columns)))\n",
    "    print(\"Difference:\", set(df_train.columns).difference(set(df_test.columns)))\n"
   ]
  },
  {
   "cell_type": "markdown",
   "id": "cb531f3f",
   "metadata": {},
   "source": [
    "Tiền xử lý dữ liệu train/test bằng hàm preprocessing_feature_01."
   ]
  },
  {
   "cell_type": "code",
   "execution_count": 18,
   "id": "22344ed8",
   "metadata": {},
   "outputs": [],
   "source": [
    "def process_features(df_train, df_test, verbose=True):\n",
    "    print(\"\\n Processing training data...\")\n",
    "    df_train_feat, _ = preprocessing_feature_01(df_train, is_train=True, is_debug=verbose)\n",
    "\n",
    "    print(\" Processing test data...\")\n",
    "    df_test_feat, _ = preprocessing_feature_01(df_test, is_train=False, is_debug=verbose)\n",
    "\n",
    "    y_train = df_train_feat['Output'].values\n",
    "    X_train = df_train_feat.drop('Output', axis=1).values\n",
    "    X_test = df_test_feat.values\n",
    "    X_cols = df_train_feat.drop('Output', axis=1).columns.tolist()\n",
    "\n",
    "    return X_train, y_train, X_test, X_cols\n"
   ]
  },
  {
   "cell_type": "markdown",
   "id": "d72d714c",
   "metadata": {},
   "source": [
    "Lưu dữ liệu đặc trưng đã xử lý vào file .npz."
   ]
  },
  {
   "cell_type": "code",
   "execution_count": 19,
   "id": "b3227c05",
   "metadata": {},
   "outputs": [],
   "source": [
    "def save_features(X_train, y_train, X_test, X_cols, save_dir):\n",
    "    os.makedirs(save_dir, exist_ok=True)\n",
    "    feat_save_path = os.path.join(save_dir, 'data.npz')\n",
    "\n",
    "    np.savez(\n",
    "        feat_save_path,\n",
    "        X_train=X_train,\n",
    "        y_train=y_train,\n",
    "        X_test=X_test,\n",
    "        X_cols=X_cols\n",
    "    )\n",
    "\n",
    "    print(f\" Features saved successfully to: {feat_save_path}\")\n"
   ]
  },
  {
   "cell_type": "markdown",
   "id": "00c0589e",
   "metadata": {},
   "source": [
    "Hàm chính điều phối toàn bộ pipeline Feature Engineering."
   ]
  },
  {
   "cell_type": "code",
   "execution_count": 20,
   "id": "1e05cc64",
   "metadata": {
    "colab": {
     "base_uri": "https://localhost:8080/",
     "height": 1000
    },
    "id": "1e05cc64",
    "outputId": "64861943-020c-4c9d-9ea6-5bab501159b1"
   },
   "outputs": [],
   "source": [
    "def run_feature_engineering(params_cfg):\n",
    "\n",
    "    data_dir = params_cfg[\"data_dir\"]\n",
    "    save_dir = params_cfg[\"save_dir\"]\n",
    "    verbose = params_cfg.get(\"verbose\", True)\n",
    "\n",
    "    if verbose:\n",
    "        print_data_info(df_train, df_test)\n",
    "\n",
    "    X_train, y_train, X_test, X_cols = process_features(df_train, df_test, verbose=verbose)\n",
    "\n",
    "    # --- Step 4: Lưu dữ liệu ---\n",
    "    save_features(X_train, y_train, X_test, X_cols, save_dir)\n"
   ]
  },
  {
   "cell_type": "markdown",
   "id": "318252c0",
   "metadata": {},
   "source": [
    "Chạy huấn luyện mô hình sau khi đã có file .npz."
   ]
  },
  {
   "cell_type": "code",
   "execution_count": 24,
   "id": "8f336c27",
   "metadata": {},
   "outputs": [],
   "source": [
    "def run_training(params_cfg):\n",
    "    \n",
    "    print(\"\\n[ACTION]: Running Model Training (train)\")\n",
    "\n",
    "    feat_path = params_cfg[\"feat_path\"]\n",
    "    seed = params_cfg[\"seed\"]\n",
    "\n",
    "    if not os.path.exists(feat_path):\n",
    "        print(f\"❌ Error: Feature file not found at {feat_path}\")\n",
    "        print(\"👉 Please run the 'main_feat01' action first to generate features.\")\n",
    "        return\n",
    "\n",
    "    # Gọi hàm train model\n",
    "    training_results_kfold = train_and_evaluate_model_with_kfold(feat_path=feat_path, seed=seed)\n",
    "\n",
    "    # --- Tóm tắt kết quả ---\n",
    "    print(\"\\n\" + \"=\" * 20, \"📊 Final Training Summary\", \"=\" * 20)\n",
    "\n",
    "    summary_data = [\n",
    "        {\n",
    "            \"Model\": name,\n",
    "            \"Overall Accuracy\": m['overall_accuracy'],\n",
    "            \"Overall AUC\": m['overall_auc'],\n",
    "            \"Mean Fold AUC\": m.get('mean_auc', np.nan),\n",
    "            \"Std Fold AUC\": m.get('std_auc', np.nan)\n",
    "        }\n",
    "        for name, m in training_results_kfold.items()\n",
    "    ]\n",
    "\n",
    "    summary_df = pd.DataFrame(summary_data).sort_values(by=\"Overall AUC\", ascending=False)\n",
    "    print(summary_df.to_string(index=False, float_format=\"%.4f\"))\n"
   ]
  },
  {
   "cell_type": "markdown",
   "id": "3f62a36b",
   "metadata": {},
   "source": [
    "main - khối thực thi"
   ]
  },
  {
   "cell_type": "code",
   "execution_count": 23,
   "id": "3ce975b9",
   "metadata": {},
   "outputs": [
    {
     "name": "stdout",
     "output_type": "stream",
     "text": [
      "+ action: train\n",
      "+ seed: 42\n",
      "+ exp_dir: d:\\Basic-of-Machine-learning\\train\\exps\n",
      "+ exp_name: featbase_251028\n",
      "+ data_dir: d:\\Basic-of-Machine-learning\\train\n",
      "+ verbose: True\n",
      "+ save_dir: d:\\Basic-of-Machine-learning\\train\\exps\\featbase_251028\n",
      "+ feat_path: d:\\Basic-of-Machine-learning\\train\\exps\\featbase_251028\\data.npz\n",
      "\n",
      "[ACTION]: Running Model Training (train)\n",
      " Loading features from: d:\\Basic-of-Machine-learning\\train\\exps\\featbase_251028\\data.npz\n",
      " Features loaded: [np.str_('FamilySize'), np.str_('Sex'), np.str_('Age'), np.str_('Fare'), np.str_('Pclass'), np.str_('Cabin'), np.str_('Embarked'), np.str_('Surname')]\n",
      "\n",
      "--- Training LogisticRegression ---\n",
      "  Fold 1 AUC: 0.8882\n",
      "  Fold 2 AUC: 0.8500\n",
      "  Fold 3 AUC: 0.8338\n",
      "  Fold 4 AUC: 0.8294\n",
      "  Fold 5 AUC: 0.8736\n",
      "-> Mean AUC for LogisticRegression: 0.8550 +/- 0.0227\n",
      "\n",
      "Overall Metrics for LogisticRegression:\n",
      "  Overall AUC: 0.8539\n",
      "  Overall Accuracy: 0.8002\n",
      "  Overall Classification Report:\n",
      "              precision    recall  f1-score   support\n",
      "\n",
      "           0       0.83      0.86      0.84       549\n",
      "           1       0.75      0.71      0.73       342\n",
      "\n",
      "    accuracy                           0.80       891\n",
      "   macro avg       0.79      0.78      0.79       891\n",
      "weighted avg       0.80      0.80      0.80       891\n",
      "\n",
      "  Overall Confusion Matrix:\n",
      "[[470  79]\n",
      " [ 99 243]]\n",
      "\n",
      "--- Training KNeighbors ---\n",
      "  Fold 1 AUC: 0.7792\n",
      "  Fold 2 AUC: 0.7867\n",
      "  Fold 3 AUC: 0.7249\n",
      "  Fold 4 AUC: 0.7600\n",
      "  Fold 5 AUC: 0.7784\n",
      "-> Mean AUC for KNeighbors: 0.7658 +/- 0.0223\n",
      "\n",
      "Overall Metrics for KNeighbors:\n",
      "  Overall AUC: 0.7680\n",
      "  Overall Accuracy: 0.7228\n",
      "  Overall Classification Report:\n",
      "              precision    recall  f1-score   support\n",
      "\n",
      "           0       0.75      0.82      0.78       549\n",
      "           1       0.66      0.57      0.61       342\n",
      "\n",
      "    accuracy                           0.72       891\n",
      "   macro avg       0.71      0.69      0.70       891\n",
      "weighted avg       0.72      0.72      0.72       891\n",
      "\n",
      "  Overall Confusion Matrix:\n",
      "[[450  99]\n",
      " [148 194]]\n",
      "\n",
      "--- Training SVC ---\n",
      "  Fold 1 AUC: 0.7837\n",
      "  Fold 2 AUC: 0.7579\n",
      "  Fold 3 AUC: 0.7366\n",
      "  Fold 4 AUC: 0.7480\n",
      "  Fold 5 AUC: 0.7042\n",
      "-> Mean AUC for SVC: 0.7461 +/- 0.0261\n",
      "\n",
      "Overall Metrics for SVC:\n",
      "  Overall AUC: 0.7308\n",
      "  Overall Accuracy: 0.6813\n",
      "  Overall Classification Report:\n",
      "              precision    recall  f1-score   support\n",
      "\n",
      "           0       0.68      0.91      0.78       549\n",
      "           1       0.68      0.32      0.44       342\n",
      "\n",
      "    accuracy                           0.68       891\n",
      "   macro avg       0.68      0.61      0.61       891\n",
      "weighted avg       0.68      0.68      0.65       891\n",
      "\n",
      "  Overall Confusion Matrix:\n",
      "[[497  52]\n",
      " [232 110]]\n",
      "\n",
      "--- Training RandomForest ---\n",
      "  Fold 1 AUC: 0.9094\n",
      "  Fold 2 AUC: 0.8638\n",
      "  Fold 3 AUC: 0.8408\n",
      "  Fold 4 AUC: 0.8601\n",
      "  Fold 5 AUC: 0.8875\n",
      "-> Mean AUC for RandomForest: 0.8723 +/- 0.0238\n",
      "\n",
      "Overall Metrics for RandomForest:\n",
      "  Overall AUC: 0.8709\n",
      "  Overall Accuracy: 0.8148\n",
      "  Overall Classification Report:\n",
      "              precision    recall  f1-score   support\n",
      "\n",
      "           0       0.84      0.86      0.85       549\n",
      "           1       0.77      0.74      0.75       342\n",
      "\n",
      "    accuracy                           0.81       891\n",
      "   macro avg       0.81      0.80      0.80       891\n",
      "weighted avg       0.81      0.81      0.81       891\n",
      "\n",
      "  Overall Confusion Matrix:\n",
      "[[472  77]\n",
      " [ 88 254]]\n",
      "\n",
      "==================== Training Complete ====================\n",
      " Loading features from: d:\\Basic-of-Machine-learning\\train\\exps\\featbase_251028\\data.npz\n",
      " Features loaded: [np.str_('FamilySize'), np.str_('Sex'), np.str_('Age'), np.str_('Fare'), np.str_('Pclass'), np.str_('Cabin'), np.str_('Embarked'), np.str_('Surname')]\n",
      "\n",
      "--- Training LogisticRegression ---\n",
      "LogisticRegression Results:\n",
      "AUC: 0.8593\n",
      "Accuracy: 0.8126\n",
      "Classification Report:\n",
      "              precision    recall  f1-score   support\n",
      "\n",
      "           0       0.83      0.87      0.85       549\n",
      "           1       0.77      0.72      0.75       342\n",
      "\n",
      "    accuracy                           0.81       891\n",
      "   macro avg       0.80      0.80      0.80       891\n",
      "weighted avg       0.81      0.81      0.81       891\n",
      "\n",
      "Confusion Matrix:\n",
      "[[477  72]\n",
      " [ 95 247]]\n",
      "\n",
      "--- Training KNeighbors ---\n",
      "KNeighbors Results:\n",
      "AUC: 0.8952\n",
      "Accuracy: 0.8182\n",
      "Classification Report:\n",
      "              precision    recall  f1-score   support\n",
      "\n",
      "           0       0.83      0.88      0.86       549\n",
      "           1       0.79      0.72      0.75       342\n",
      "\n",
      "    accuracy                           0.82       891\n",
      "   macro avg       0.81      0.80      0.80       891\n",
      "weighted avg       0.82      0.82      0.82       891\n",
      "\n",
      "Confusion Matrix:\n",
      "[[483  66]\n",
      " [ 96 246]]\n",
      "\n",
      "--- Training SVC ---\n",
      "SVC Results:\n",
      "AUC: 0.7606\n",
      "Accuracy: 0.6880\n",
      "Classification Report:\n",
      "              precision    recall  f1-score   support\n",
      "\n",
      "           0       0.68      0.91      0.78       549\n",
      "           1       0.70      0.32      0.44       342\n",
      "\n",
      "    accuracy                           0.69       891\n",
      "   macro avg       0.69      0.62      0.61       891\n",
      "weighted avg       0.69      0.69      0.65       891\n",
      "\n",
      "Confusion Matrix:\n",
      "[[502  47]\n",
      " [231 111]]\n",
      "\n",
      "--- Training RandomForest ---\n",
      "RandomForest Results:\n",
      "AUC: 0.9978\n",
      "Accuracy: 0.9843\n",
      "Classification Report:\n",
      "              precision    recall  f1-score   support\n",
      "\n",
      "           0       0.98      1.00      0.99       549\n",
      "           1       0.99      0.96      0.98       342\n",
      "\n",
      "    accuracy                           0.98       891\n",
      "   macro avg       0.99      0.98      0.98       891\n",
      "weighted avg       0.98      0.98      0.98       891\n",
      "\n",
      "Confusion Matrix:\n",
      "[[547   2]\n",
      " [ 12 330]]\n",
      "\n",
      "==================== Training Complete ====================\n",
      "\n",
      "==================== 📊 Final Training Summary ====================\n",
      "             Model  Overall Accuracy  Overall AUC  Mean Fold AUC  Std Fold AUC\n",
      "      RandomForest            0.8148       0.8709         0.8723        0.0238\n",
      "LogisticRegression            0.8002       0.8539         0.8550        0.0227\n",
      "        KNeighbors            0.7228       0.7680         0.7658        0.0223\n",
      "               SVC            0.6813       0.7308         0.7461        0.0261\n"
     ]
    }
   ],
   "source": [
    "if __name__ == \"__main__\":\n",
    "\n",
    "    params_cfg = {\n",
    "        \"action\"   : \"train\",  # hoặc \"train\"\n",
    "        \"seed\"     : 42,\n",
    "        \"exp_dir\"  : os.path.abspath('./exps'),\n",
    "        \"exp_name\" : \"featbase_251028\",\n",
    "        \"data_dir\" : os.path.abspath(\"./\"),  # train.csv/test.csv\n",
    "        \"verbose\"  : True,\n",
    "    }\n",
    "\n",
    "    params_cfg.update({\n",
    "        \"save_dir\": os.path.join(params_cfg[\"exp_dir\"], params_cfg[\"exp_name\"]),\n",
    "        \"feat_path\": os.path.join(params_cfg[\"exp_dir\"], params_cfg[\"exp_name\"], \"data.npz\")\n",
    "    })\n",
    "\n",
    "    os.makedirs(params_cfg[\"save_dir\"], exist_ok=True)\n",
    "\n",
    "    for k, v in params_cfg.items():\n",
    "        print(f\"+ {k}: {v}\")\n",
    "\n",
    "    if params_cfg[\"action\"] == \"main_feat01\":\n",
    "        run_feature_engineering(params_cfg)\n",
    "    elif params_cfg[\"action\"] == \"train\":\n",
    "        run_training(params_cfg)\n",
    "    else:\n",
    "        print(f\"❌ Unknown action '{params_cfg['action']}'\")\n"
   ]
  },
  {
   "cell_type": "markdown",
   "id": "1560a8b2",
   "metadata": {
    "id": "1560a8b2"
   },
   "source": [
    "# End"
   ]
  }
 ],
 "metadata": {
  "colab": {
   "provenance": []
  },
  "kernelspec": {
   "display_name": ".venv",
   "language": "python",
   "name": "python3"
  },
  "language_info": {
   "codemirror_mode": {
    "name": "ipython",
    "version": 3
   },
   "file_extension": ".py",
   "mimetype": "text/x-python",
   "name": "python",
   "nbconvert_exporter": "python",
   "pygments_lexer": "ipython3",
   "version": "3.10.11"
  }
 },
 "nbformat": 4,
 "nbformat_minor": 5
}
